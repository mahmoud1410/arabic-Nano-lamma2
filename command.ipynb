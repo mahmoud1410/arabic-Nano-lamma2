{
  "nbformat": 4,
  "nbformat_minor": 0,
  "metadata": {
    "colab": {
      "provenance": [],
      "machine_shape": "hm",
      "authorship_tag": "ABX9TyP0UQYsZEAcLrE82npC05aE",
      "include_colab_link": true
    },
    "kernelspec": {
      "name": "python3",
      "display_name": "Python 3"
    },
    "language_info": {
      "name": "python"
    }
  },
  "cells": [
    {
      "cell_type": "markdown",
      "metadata": {
        "id": "view-in-github",
        "colab_type": "text"
      },
      "source": [
        "<a href=\"https://colab.research.google.com/github/mahmoud1410/arabic-Nano-lamma2/blob/main/command.ipynb\" target=\"_parent\"><img src=\"https://colab.research.google.com/assets/colab-badge.svg\" alt=\"Open In Colab\"/></a>"
      ]
    },
    {
      "cell_type": "code",
      "source": [
        "!git clone ssh://git@github.com:mahmoud1410/arabic-Nano-lamma2.git"
      ],
      "metadata": {
        "colab": {
          "base_uri": "https://localhost:8080/"
        },
        "id": "rDOaA7CpM2ip",
        "outputId": "87c3c612-c0d6-45f0-ce28-de8cab1675ac"
      },
      "execution_count": 2,
      "outputs": [
        {
          "output_type": "stream",
          "name": "stdout",
          "text": [
            "Cloning into 'arabic-Nano-lamma2'...\n",
            "ssh: Could not resolve hostname github.com:mahmoud1410: Name or service not known\r\n",
            "fatal: Could not read from remote repository.\n",
            "\n",
            "Please make sure you have the correct access rights\n",
            "and the repository exists.\n"
          ]
        }
      ]
    },
    {
      "cell_type": "code",
      "source": [
        "!ssh-keygen -t rsa -b 4096 -f ~/.ssh/id_rsa -N ''\n"
      ],
      "metadata": {
        "colab": {
          "base_uri": "https://localhost:8080/"
        },
        "id": "oy1s48Advp1T",
        "outputId": "904584f8-02fe-402f-eda9-98d855bf75ce"
      },
      "execution_count": 3,
      "outputs": [
        {
          "output_type": "stream",
          "name": "stdout",
          "text": [
            "Generating public/private rsa key pair.\n",
            "Created directory '/root/.ssh'.\n",
            "Your identification has been saved in /root/.ssh/id_rsa\n",
            "Your public key has been saved in /root/.ssh/id_rsa.pub\n",
            "The key fingerprint is:\n",
            "SHA256:u8n2kNw9Mq7sZhk1Tg4kXHDOMYUv1LHShNS29iovyD4 root@ecd286f6c43b\n",
            "The key's randomart image is:\n",
            "+---[RSA 4096]----+\n",
            "|     ..+**+.     |\n",
            "|      o+==+.     |\n",
            "|       ++oo.     |\n",
            "|        o.B      |\n",
            "|        SO o     |\n",
            "|       ..+o..    |\n",
            "|     . .=o+.o    |\n",
            "|      EoB=.o .   |\n",
            "|     ..*B*+      |\n",
            "+----[SHA256]-----+\n"
          ]
        }
      ]
    },
    {
      "cell_type": "code",
      "source": [
        "!ssh-keyscan -t rsa github.com >> ~/.ssh/known_hosts\n"
      ],
      "metadata": {
        "colab": {
          "base_uri": "https://localhost:8080/"
        },
        "id": "8XjUwBpUvspC",
        "outputId": "dadda1cd-cafb-4219-984e-7281fdff2d95"
      },
      "execution_count": 4,
      "outputs": [
        {
          "output_type": "stream",
          "name": "stdout",
          "text": [
            "# github.com:22 SSH-2.0-babeld-62e40f88\n"
          ]
        }
      ]
    },
    {
      "cell_type": "code",
      "execution_count": 6,
      "metadata": {
        "colab": {
          "base_uri": "https://localhost:8080/"
        },
        "id": "FaANjvdRtwgG",
        "outputId": "917ca0c3-1a64-4edf-a68c-85e7fa177b30"
      },
      "outputs": [
        {
          "output_type": "stream",
          "name": "stdout",
          "text": [
            "fatal: destination path 'arabic-Nano-lamma2' already exists and is not an empty directory.\n"
          ]
        }
      ],
      "source": [
        "!git clone https://github.com/mahmoud1410/arabic-Nano-lamma2.git"
      ]
    },
    {
      "cell_type": "code",
      "source": [
        "! cat /root/.ssh/id_rsa.pub\n"
      ],
      "metadata": {
        "colab": {
          "base_uri": "https://localhost:8080/"
        },
        "id": "396Ep0h71iLZ",
        "outputId": "c8e3411f-9dce-4849-91ca-ad72f9b8c745"
      },
      "execution_count": 5,
      "outputs": [
        {
          "output_type": "stream",
          "name": "stdout",
          "text": [
            "ssh-rsa AAAAB3NzaC1yc2EAAAADAQABAAACAQDKK+CaE9MjC44SsL47STFYSCHXKGG+9cQMXNNzAqz7niKuydPu97aSRzUCXrp2FrZcj26rxTbhoEC7yW4NllHKxZmLTn5YZMSX+W+yHsL1UYU6hRQHdxeoxNuxGDZZLlZkbDtdWCigNa/iSJU84JfOpuO60LUQ0yVr8WCjl4yvEvkNkhqRnHsGh48c9WlHAVqXtult838Rwi35dScK1EDWeyYUdAMl+I8vCVdJMHv8ytj3vRQ9FhycoX8qmjmgDlIePRCBXtRdBMu/4tqGFY03htGKAXGZEmn6GA8QTxZFUC356yWQC31FqXSzI80BHfWodvBCRE/TaY/tz+4Qm5lW3X4G38S7nB6JX/T1sHptDYUkbIT46Mgu5+kizOFV8V04YYJ43Xfg89bHoNUc1IjrZa+VZSO8NBBio8XTy2kyyWA8fgVd5Wd/C8mnfOFUBF9ihN05pFoy2TIQ7CoChCTL5J3BHXZKr5Hx4vw77W78kZDu9O2UZ7ODXcPIdQdGPEDbU1HPTApfg7kTjSsAnWFlQY/LFvs9Lo7sQc04UqwlL4oQPXG5lMVuir/6qYQpArteEI7hiPpKswet0CtqculIV7pTJ/n0Zmln66y0KnuDkv7FjXNnWVjoapajAH2eLHQxsVxOMZretjM/N+khFsQvvqlYIXxCwZDGPazJg7ClAw== root@ecd286f6c43b\n"
          ]
        }
      ]
    },
    {
      "cell_type": "code",
      "source": [
        "!cd arabic-Nano-lamma2\n"
      ],
      "metadata": {
        "id": "d_qPh6mGuQns"
      },
      "execution_count": 9,
      "outputs": []
    },
    {
      "cell_type": "code",
      "source": [],
      "metadata": {
        "colab": {
          "base_uri": "https://localhost:8080/"
        },
        "id": "X6iPAAIp2029",
        "outputId": "5dd62d7d-bdc8-40dc-f84a-6cd57c81d977"
      },
      "execution_count": 10,
      "outputs": [
        {
          "output_type": "stream",
          "name": "stdout",
          "text": [
            "arabic-Nano-lamma2  sample_data\n"
          ]
        }
      ]
    },
    {
      "cell_type": "code",
      "source": [],
      "metadata": {
        "id": "TyVvnH4G3F2q"
      },
      "execution_count": null,
      "outputs": []
    }
  ]
}